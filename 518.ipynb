{
  "nbformat": 4,
  "nbformat_minor": 0,
  "metadata": {
    "colab": {
      "name": "Project Euler.ipynb",
      "provenance": []
    },
    "kernelspec": {
      "name": "python3",
      "display_name": "Python 3"
    },
    "language_info": {
      "name": "python"
    }
  },
  "cells": [
    {
      "cell_type": "code",
      "metadata": {
        "id": "2MWaJtmyAvO4"
      },
      "source": [
        "\n",
        "def prime_list(n):\n",
        "  prime=[True]*n\n",
        "  p={}\n",
        "  prime[0]=prime[1]=False\n",
        "  for i in range(2,n):\n",
        "    if prime[i]:\n",
        "      p[i]=1\n",
        "      for j in range(i*i,n,i):\n",
        "        prime[j]=False\n",
        "  return p\n",
        "  \n"
      ],
      "execution_count": 11,
      "outputs": []
    },
    {
      "cell_type": "code",
      "metadata": {
        "id": "A1nVKsEZBJn5"
      },
      "source": [
        "import math\n",
        "def solve(limit,p):\n",
        "    # check=[]\n",
        "    ans=0\n",
        "    x=2\n",
        "    while x*x<limit:        \n",
        "        k=1\n",
        "        while k*x*x<limit:            \n",
        "            a=k*x*x-1          \n",
        "            # exit()\n",
        "            if a not in p:\n",
        "                k+=1\n",
        "                continue\n",
        "            # print('a',a,x,k)\n",
        "            for y in range(1,x):\n",
        "                if math.gcd(x,y)>1:\n",
        "                    continue\n",
        "                b=k*x*y-1\n",
        "                c=k*y*y-1\n",
        "\n",
        "                if b in p and c in p:\n",
        "                    ans+=a+b+c\n",
        "                # check.append((a,b,c))\n",
        "            k+=1\n",
        "        x+=1\n",
        "    return(ans)"
      ],
      "execution_count": 12,
      "outputs": []
    },
    {
      "cell_type": "code",
      "metadata": {
        "id": "fBEicWJWBO8h"
      },
      "source": [
        "from time import time\n",
        "start_time=time()\n",
        "limit=10**8\n",
        "p=prime_list(limit)\n",
        "t1=time()-start_time"
      ],
      "execution_count": 22,
      "outputs": []
    },
    {
      "cell_type": "code",
      "metadata": {
        "id": "K-PwigUOBkO6",
        "colab": {
          "base_uri": "https://localhost:8080/"
        },
        "outputId": "5053e54d-95d2-44b1-e0f3-c421c0c35d10"
      },
      "source": [
        "len(p)"
      ],
      "execution_count": 23,
      "outputs": [
        {
          "output_type": "execute_result",
          "data": {
            "text/plain": [
              "5761455"
            ]
          },
          "metadata": {
            "tags": []
          },
          "execution_count": 23
        }
      ]
    },
    {
      "cell_type": "code",
      "metadata": {
        "colab": {
          "base_uri": "https://localhost:8080/"
        },
        "id": "O2JWiT1Daumr",
        "outputId": "1e146cbb-2f74-4ef3-b9dd-097448159482"
      },
      "source": [
        "start_time=time()\n",
        "ans=solve(limit,p)\n",
        "t2=time()-start_time\n",
        "print(ans,t2,'seconds')"
      ],
      "execution_count": 24,
      "outputs": [
        {
          "output_type": "stream",
          "text": [
            "100315739184392 72.99302411079407 seconds\n"
          ],
          "name": "stdout"
        }
      ]
    },
    {
      "cell_type": "code",
      "metadata": {
        "colab": {
          "base_uri": "https://localhost:8080/"
        },
        "id": "GkMl513ja6sH",
        "outputId": "1d488c1d-ddc2-4cc5-f94b-284e739dad27"
      },
      "source": [
        "t1+t2"
      ],
      "execution_count": 25,
      "outputs": [
        {
          "output_type": "execute_result",
          "data": {
            "text/plain": [
              "103.27852892875671"
            ]
          },
          "metadata": {
            "tags": []
          },
          "execution_count": 25
        }
      ]
    },
    {
      "cell_type": "code",
      "metadata": {
        "id": "YA8AF1dsbChA"
      },
      "source": [
        ""
      ],
      "execution_count": null,
      "outputs": []
    }
  ]
}